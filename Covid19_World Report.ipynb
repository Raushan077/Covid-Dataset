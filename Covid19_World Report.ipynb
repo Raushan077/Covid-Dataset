{
 "cells": [
  {
   "cell_type": "markdown",
   "id": "22d11862",
   "metadata": {},
   "source": [
    "\n",
    "# Raushan Kumar"
   ]
  },
  {
   "cell_type": "code",
   "execution_count": 1,
   "id": "5408a73a",
   "metadata": {},
   "outputs": [],
   "source": [
    "import os\n",
    "import pandas as pd\n",
    "import numpy as np\n",
    "import seaborn as sns\n",
    "import matplotlib.pyplot as plt"
   ]
  },
  {
   "cell_type": "markdown",
   "id": "09b2d97f",
   "metadata": {},
   "source": [
    "# Importing File"
   ]
  },
  {
   "cell_type": "code",
   "execution_count": 2,
   "id": "0f452b66",
   "metadata": {},
   "outputs": [],
   "source": [
    "df = pd.read_csv(\"C:\\\\Users\\\\Raushan Kumar\\\\Downloads\\\\covid_worldwide.csv\")"
   ]
  },
  {
   "cell_type": "markdown",
   "id": "be110179",
   "metadata": {},
   "source": [
    "# Checking the First Few Rows"
   ]
  },
  {
   "cell_type": "code",
   "execution_count": 3,
   "id": "e6ab12fe",
   "metadata": {},
   "outputs": [
    {
     "data": {
      "text/html": [
       "<div>\n",
       "<style scoped>\n",
       "    .dataframe tbody tr th:only-of-type {\n",
       "        vertical-align: middle;\n",
       "    }\n",
       "\n",
       "    .dataframe tbody tr th {\n",
       "        vertical-align: top;\n",
       "    }\n",
       "\n",
       "    .dataframe thead th {\n",
       "        text-align: right;\n",
       "    }\n",
       "</style>\n",
       "<table border=\"1\" class=\"dataframe\">\n",
       "  <thead>\n",
       "    <tr style=\"text-align: right;\">\n",
       "      <th></th>\n",
       "      <th>Serial Number</th>\n",
       "      <th>Country</th>\n",
       "      <th>Total Cases</th>\n",
       "      <th>Total Deaths</th>\n",
       "      <th>Total Recovered</th>\n",
       "      <th>Active Cases</th>\n",
       "      <th>Total Test</th>\n",
       "      <th>Population</th>\n",
       "    </tr>\n",
       "  </thead>\n",
       "  <tbody>\n",
       "    <tr>\n",
       "      <th>0</th>\n",
       "      <td>1</td>\n",
       "      <td>USA</td>\n",
       "      <td>104,196,861</td>\n",
       "      <td>1,132,935</td>\n",
       "      <td>101,322,779</td>\n",
       "      <td>1,741,147</td>\n",
       "      <td>1,159,832,679</td>\n",
       "      <td>334,805,269</td>\n",
       "    </tr>\n",
       "    <tr>\n",
       "      <th>1</th>\n",
       "      <td>2</td>\n",
       "      <td>India</td>\n",
       "      <td>44,682,784</td>\n",
       "      <td>530,740</td>\n",
       "      <td>44,150,289</td>\n",
       "      <td>1,755</td>\n",
       "      <td>915,265,788</td>\n",
       "      <td>1,406,631,776</td>\n",
       "    </tr>\n",
       "    <tr>\n",
       "      <th>2</th>\n",
       "      <td>3</td>\n",
       "      <td>France</td>\n",
       "      <td>39,524,311</td>\n",
       "      <td>164,233</td>\n",
       "      <td>39,264,546</td>\n",
       "      <td>95,532</td>\n",
       "      <td>271,490,188</td>\n",
       "      <td>65,584,518</td>\n",
       "    </tr>\n",
       "    <tr>\n",
       "      <th>3</th>\n",
       "      <td>4</td>\n",
       "      <td>Germany</td>\n",
       "      <td>37,779,833</td>\n",
       "      <td>165,711</td>\n",
       "      <td>37,398,100</td>\n",
       "      <td>216,022</td>\n",
       "      <td>122,332,384</td>\n",
       "      <td>83,883,596</td>\n",
       "    </tr>\n",
       "    <tr>\n",
       "      <th>4</th>\n",
       "      <td>5</td>\n",
       "      <td>Brazil</td>\n",
       "      <td>36,824,580</td>\n",
       "      <td>697,074</td>\n",
       "      <td>35,919,372</td>\n",
       "      <td>208,134</td>\n",
       "      <td>63,776,166</td>\n",
       "      <td>215,353,593</td>\n",
       "    </tr>\n",
       "    <tr>\n",
       "      <th>5</th>\n",
       "      <td>6</td>\n",
       "      <td>Japan</td>\n",
       "      <td>32,588,442</td>\n",
       "      <td>68,399</td>\n",
       "      <td>21,567,425</td>\n",
       "      <td>10,952,618</td>\n",
       "      <td>92,144,639</td>\n",
       "      <td>125,584,838</td>\n",
       "    </tr>\n",
       "    <tr>\n",
       "      <th>6</th>\n",
       "      <td>7</td>\n",
       "      <td>S. Korea</td>\n",
       "      <td>30,197,066</td>\n",
       "      <td>33,486</td>\n",
       "      <td>29,740,877</td>\n",
       "      <td>422,703</td>\n",
       "      <td>15,804,065</td>\n",
       "      <td>51,329,899</td>\n",
       "    </tr>\n",
       "    <tr>\n",
       "      <th>7</th>\n",
       "      <td>8</td>\n",
       "      <td>Italy</td>\n",
       "      <td>25,453,789</td>\n",
       "      <td>186,833</td>\n",
       "      <td>25,014,986</td>\n",
       "      <td>251,970</td>\n",
       "      <td>265,478,247</td>\n",
       "      <td>60,262,770</td>\n",
       "    </tr>\n",
       "    <tr>\n",
       "      <th>8</th>\n",
       "      <td>9</td>\n",
       "      <td>UK</td>\n",
       "      <td>24,274,361</td>\n",
       "      <td>204,171</td>\n",
       "      <td>24,020,088</td>\n",
       "      <td>50,102</td>\n",
       "      <td>522,526,476</td>\n",
       "      <td>68,497,907</td>\n",
       "    </tr>\n",
       "    <tr>\n",
       "      <th>9</th>\n",
       "      <td>10</td>\n",
       "      <td>Russia</td>\n",
       "      <td>21,958,696</td>\n",
       "      <td>395,108</td>\n",
       "      <td>21,356,008</td>\n",
       "      <td>207,580</td>\n",
       "      <td>273,400,000</td>\n",
       "      <td>145,805,947</td>\n",
       "    </tr>\n",
       "  </tbody>\n",
       "</table>\n",
       "</div>"
      ],
      "text/plain": [
       "   Serial Number   Country  Total Cases Total Deaths Total Recovered  \\\n",
       "0              1       USA  104,196,861    1,132,935     101,322,779   \n",
       "1              2     India   44,682,784      530,740      44,150,289   \n",
       "2              3    France   39,524,311      164,233      39,264,546   \n",
       "3              4   Germany   37,779,833      165,711      37,398,100   \n",
       "4              5    Brazil   36,824,580      697,074      35,919,372   \n",
       "5              6     Japan   32,588,442       68,399      21,567,425   \n",
       "6              7  S. Korea   30,197,066       33,486      29,740,877   \n",
       "7              8     Italy   25,453,789      186,833      25,014,986   \n",
       "8              9        UK   24,274,361      204,171      24,020,088   \n",
       "9             10    Russia   21,958,696      395,108      21,356,008   \n",
       "\n",
       "  Active Cases     Total Test     Population  \n",
       "0    1,741,147  1,159,832,679    334,805,269  \n",
       "1        1,755    915,265,788  1,406,631,776  \n",
       "2       95,532    271,490,188     65,584,518  \n",
       "3      216,022    122,332,384     83,883,596  \n",
       "4      208,134     63,776,166    215,353,593  \n",
       "5   10,952,618     92,144,639    125,584,838  \n",
       "6      422,703     15,804,065     51,329,899  \n",
       "7      251,970    265,478,247     60,262,770  \n",
       "8       50,102    522,526,476     68,497,907  \n",
       "9      207,580    273,400,000    145,805,947  "
      ]
     },
     "execution_count": 3,
     "metadata": {},
     "output_type": "execute_result"
    }
   ],
   "source": [
    "df.head(10)"
   ]
  },
  {
   "cell_type": "markdown",
   "id": "b8b1ea05",
   "metadata": {},
   "source": [
    "# Checking Column names"
   ]
  },
  {
   "cell_type": "code",
   "execution_count": 4,
   "id": "389bd8b5",
   "metadata": {},
   "outputs": [
    {
     "data": {
      "text/plain": [
       "Index(['Serial Number', 'Country', 'Total Cases', 'Total Deaths',\n",
       "       'Total Recovered', 'Active Cases', 'Total Test', 'Population'],\n",
       "      dtype='object')"
      ]
     },
     "execution_count": 4,
     "metadata": {},
     "output_type": "execute_result"
    }
   ],
   "source": [
    "df.columns"
   ]
  },
  {
   "cell_type": "markdown",
   "id": "d211c926",
   "metadata": {},
   "source": [
    "# Renaming column names for ease of use "
   ]
  },
  {
   "cell_type": "code",
   "execution_count": 5,
   "id": "530faeba",
   "metadata": {},
   "outputs": [],
   "source": [
    "df = df.rename(columns = {'Serial Number' : 'serial_number', 'Country':'country', 'Total Cases':'total_cases', 'Total Deaths':'total_deaths', 'Total Recovered':'total_recovered', 'Active Cases':'active_cases', 'Total Test':'total_test', 'Population':'population'})\n"
   ]
  },
  {
   "cell_type": "markdown",
   "id": "cc181149",
   "metadata": {},
   "source": [
    "# Checking if changes have been made"
   ]
  },
  {
   "cell_type": "code",
   "execution_count": 6,
   "id": "47384333",
   "metadata": {},
   "outputs": [
    {
     "data": {
      "text/html": [
       "<div>\n",
       "<style scoped>\n",
       "    .dataframe tbody tr th:only-of-type {\n",
       "        vertical-align: middle;\n",
       "    }\n",
       "\n",
       "    .dataframe tbody tr th {\n",
       "        vertical-align: top;\n",
       "    }\n",
       "\n",
       "    .dataframe thead th {\n",
       "        text-align: right;\n",
       "    }\n",
       "</style>\n",
       "<table border=\"1\" class=\"dataframe\">\n",
       "  <thead>\n",
       "    <tr style=\"text-align: right;\">\n",
       "      <th></th>\n",
       "      <th>serial_number</th>\n",
       "      <th>country</th>\n",
       "      <th>total_cases</th>\n",
       "      <th>total_deaths</th>\n",
       "      <th>total_recovered</th>\n",
       "      <th>active_cases</th>\n",
       "      <th>total_test</th>\n",
       "      <th>population</th>\n",
       "    </tr>\n",
       "  </thead>\n",
       "  <tbody>\n",
       "    <tr>\n",
       "      <th>0</th>\n",
       "      <td>1</td>\n",
       "      <td>USA</td>\n",
       "      <td>104,196,861</td>\n",
       "      <td>1,132,935</td>\n",
       "      <td>101,322,779</td>\n",
       "      <td>1,741,147</td>\n",
       "      <td>1,159,832,679</td>\n",
       "      <td>334,805,269</td>\n",
       "    </tr>\n",
       "    <tr>\n",
       "      <th>1</th>\n",
       "      <td>2</td>\n",
       "      <td>India</td>\n",
       "      <td>44,682,784</td>\n",
       "      <td>530,740</td>\n",
       "      <td>44,150,289</td>\n",
       "      <td>1,755</td>\n",
       "      <td>915,265,788</td>\n",
       "      <td>1,406,631,776</td>\n",
       "    </tr>\n",
       "    <tr>\n",
       "      <th>2</th>\n",
       "      <td>3</td>\n",
       "      <td>France</td>\n",
       "      <td>39,524,311</td>\n",
       "      <td>164,233</td>\n",
       "      <td>39,264,546</td>\n",
       "      <td>95,532</td>\n",
       "      <td>271,490,188</td>\n",
       "      <td>65,584,518</td>\n",
       "    </tr>\n",
       "    <tr>\n",
       "      <th>3</th>\n",
       "      <td>4</td>\n",
       "      <td>Germany</td>\n",
       "      <td>37,779,833</td>\n",
       "      <td>165,711</td>\n",
       "      <td>37,398,100</td>\n",
       "      <td>216,022</td>\n",
       "      <td>122,332,384</td>\n",
       "      <td>83,883,596</td>\n",
       "    </tr>\n",
       "    <tr>\n",
       "      <th>4</th>\n",
       "      <td>5</td>\n",
       "      <td>Brazil</td>\n",
       "      <td>36,824,580</td>\n",
       "      <td>697,074</td>\n",
       "      <td>35,919,372</td>\n",
       "      <td>208,134</td>\n",
       "      <td>63,776,166</td>\n",
       "      <td>215,353,593</td>\n",
       "    </tr>\n",
       "    <tr>\n",
       "      <th>...</th>\n",
       "      <td>...</td>\n",
       "      <td>...</td>\n",
       "      <td>...</td>\n",
       "      <td>...</td>\n",
       "      <td>...</td>\n",
       "      <td>...</td>\n",
       "      <td>...</td>\n",
       "      <td>...</td>\n",
       "    </tr>\n",
       "    <tr>\n",
       "      <th>226</th>\n",
       "      <td>227</td>\n",
       "      <td>Diamond Princess</td>\n",
       "      <td>712</td>\n",
       "      <td>13</td>\n",
       "      <td>699</td>\n",
       "      <td>0</td>\n",
       "      <td>NaN</td>\n",
       "      <td>NaN</td>\n",
       "    </tr>\n",
       "    <tr>\n",
       "      <th>227</th>\n",
       "      <td>228</td>\n",
       "      <td>Vatican City</td>\n",
       "      <td>29</td>\n",
       "      <td>NaN</td>\n",
       "      <td>29</td>\n",
       "      <td>0</td>\n",
       "      <td>NaN</td>\n",
       "      <td>799</td>\n",
       "    </tr>\n",
       "    <tr>\n",
       "      <th>228</th>\n",
       "      <td>229</td>\n",
       "      <td>Western Sahara</td>\n",
       "      <td>10</td>\n",
       "      <td>1</td>\n",
       "      <td>9</td>\n",
       "      <td>0</td>\n",
       "      <td>NaN</td>\n",
       "      <td>626,161</td>\n",
       "    </tr>\n",
       "    <tr>\n",
       "      <th>229</th>\n",
       "      <td>230</td>\n",
       "      <td>MS Zaandam</td>\n",
       "      <td>9</td>\n",
       "      <td>2</td>\n",
       "      <td>7</td>\n",
       "      <td>0</td>\n",
       "      <td>NaN</td>\n",
       "      <td>NaN</td>\n",
       "    </tr>\n",
       "    <tr>\n",
       "      <th>230</th>\n",
       "      <td>231</td>\n",
       "      <td>Tokelau</td>\n",
       "      <td>5</td>\n",
       "      <td>NaN</td>\n",
       "      <td>NaN</td>\n",
       "      <td>5</td>\n",
       "      <td>NaN</td>\n",
       "      <td>1,378</td>\n",
       "    </tr>\n",
       "  </tbody>\n",
       "</table>\n",
       "<p>231 rows × 8 columns</p>\n",
       "</div>"
      ],
      "text/plain": [
       "     serial_number           country  total_cases total_deaths  \\\n",
       "0                1               USA  104,196,861    1,132,935   \n",
       "1                2             India   44,682,784      530,740   \n",
       "2                3            France   39,524,311      164,233   \n",
       "3                4           Germany   37,779,833      165,711   \n",
       "4                5            Brazil   36,824,580      697,074   \n",
       "..             ...               ...          ...          ...   \n",
       "226            227  Diamond Princess          712           13   \n",
       "227            228      Vatican City           29          NaN   \n",
       "228            229    Western Sahara           10            1   \n",
       "229            230        MS Zaandam            9            2   \n",
       "230            231           Tokelau            5          NaN   \n",
       "\n",
       "    total_recovered active_cases     total_test     population  \n",
       "0       101,322,779    1,741,147  1,159,832,679    334,805,269  \n",
       "1        44,150,289        1,755    915,265,788  1,406,631,776  \n",
       "2        39,264,546       95,532    271,490,188     65,584,518  \n",
       "3        37,398,100      216,022    122,332,384     83,883,596  \n",
       "4        35,919,372      208,134     63,776,166    215,353,593  \n",
       "..              ...          ...            ...            ...  \n",
       "226             699            0            NaN            NaN  \n",
       "227              29            0            NaN            799  \n",
       "228               9            0            NaN        626,161  \n",
       "229               7            0            NaN            NaN  \n",
       "230             NaN            5            NaN          1,378  \n",
       "\n",
       "[231 rows x 8 columns]"
      ]
     },
     "execution_count": 6,
     "metadata": {},
     "output_type": "execute_result"
    }
   ],
   "source": [
    "df"
   ]
  },
  {
   "cell_type": "markdown",
   "id": "41a00975",
   "metadata": {},
   "source": [
    "# Renaming USA to United States"
   ]
  },
  {
   "cell_type": "code",
   "execution_count": 7,
   "id": "6c7605b9",
   "metadata": {},
   "outputs": [],
   "source": [
    "df['country'] = df['country'].str.replace('USA', 'United States of America')"
   ]
  },
  {
   "cell_type": "code",
   "execution_count": 8,
   "id": "778783b2",
   "metadata": {},
   "outputs": [
    {
     "data": {
      "text/html": [
       "<div>\n",
       "<style scoped>\n",
       "    .dataframe tbody tr th:only-of-type {\n",
       "        vertical-align: middle;\n",
       "    }\n",
       "\n",
       "    .dataframe tbody tr th {\n",
       "        vertical-align: top;\n",
       "    }\n",
       "\n",
       "    .dataframe thead th {\n",
       "        text-align: right;\n",
       "    }\n",
       "</style>\n",
       "<table border=\"1\" class=\"dataframe\">\n",
       "  <thead>\n",
       "    <tr style=\"text-align: right;\">\n",
       "      <th></th>\n",
       "      <th>serial_number</th>\n",
       "      <th>country</th>\n",
       "      <th>total_cases</th>\n",
       "      <th>total_deaths</th>\n",
       "      <th>total_recovered</th>\n",
       "      <th>active_cases</th>\n",
       "      <th>total_test</th>\n",
       "      <th>population</th>\n",
       "    </tr>\n",
       "  </thead>\n",
       "  <tbody>\n",
       "    <tr>\n",
       "      <th>0</th>\n",
       "      <td>1</td>\n",
       "      <td>United States of America</td>\n",
       "      <td>104,196,861</td>\n",
       "      <td>1,132,935</td>\n",
       "      <td>101,322,779</td>\n",
       "      <td>1,741,147</td>\n",
       "      <td>1,159,832,679</td>\n",
       "      <td>334,805,269</td>\n",
       "    </tr>\n",
       "    <tr>\n",
       "      <th>1</th>\n",
       "      <td>2</td>\n",
       "      <td>India</td>\n",
       "      <td>44,682,784</td>\n",
       "      <td>530,740</td>\n",
       "      <td>44,150,289</td>\n",
       "      <td>1,755</td>\n",
       "      <td>915,265,788</td>\n",
       "      <td>1,406,631,776</td>\n",
       "    </tr>\n",
       "    <tr>\n",
       "      <th>2</th>\n",
       "      <td>3</td>\n",
       "      <td>France</td>\n",
       "      <td>39,524,311</td>\n",
       "      <td>164,233</td>\n",
       "      <td>39,264,546</td>\n",
       "      <td>95,532</td>\n",
       "      <td>271,490,188</td>\n",
       "      <td>65,584,518</td>\n",
       "    </tr>\n",
       "    <tr>\n",
       "      <th>3</th>\n",
       "      <td>4</td>\n",
       "      <td>Germany</td>\n",
       "      <td>37,779,833</td>\n",
       "      <td>165,711</td>\n",
       "      <td>37,398,100</td>\n",
       "      <td>216,022</td>\n",
       "      <td>122,332,384</td>\n",
       "      <td>83,883,596</td>\n",
       "    </tr>\n",
       "    <tr>\n",
       "      <th>4</th>\n",
       "      <td>5</td>\n",
       "      <td>Brazil</td>\n",
       "      <td>36,824,580</td>\n",
       "      <td>697,074</td>\n",
       "      <td>35,919,372</td>\n",
       "      <td>208,134</td>\n",
       "      <td>63,776,166</td>\n",
       "      <td>215,353,593</td>\n",
       "    </tr>\n",
       "  </tbody>\n",
       "</table>\n",
       "</div>"
      ],
      "text/plain": [
       "   serial_number                   country  total_cases total_deaths  \\\n",
       "0              1  United States of America  104,196,861    1,132,935   \n",
       "1              2                     India   44,682,784      530,740   \n",
       "2              3                    France   39,524,311      164,233   \n",
       "3              4                   Germany   37,779,833      165,711   \n",
       "4              5                    Brazil   36,824,580      697,074   \n",
       "\n",
       "  total_recovered active_cases     total_test     population  \n",
       "0     101,322,779    1,741,147  1,159,832,679    334,805,269  \n",
       "1      44,150,289        1,755    915,265,788  1,406,631,776  \n",
       "2      39,264,546       95,532    271,490,188     65,584,518  \n",
       "3      37,398,100      216,022    122,332,384     83,883,596  \n",
       "4      35,919,372      208,134     63,776,166    215,353,593  "
      ]
     },
     "execution_count": 8,
     "metadata": {},
     "output_type": "execute_result"
    }
   ],
   "source": [
    "df.head()"
   ]
  },
  {
   "cell_type": "markdown",
   "id": "35745583",
   "metadata": {},
   "source": [
    "# Checking Column Types"
   ]
  },
  {
   "cell_type": "code",
   "execution_count": 9,
   "id": "4daebce5",
   "metadata": {},
   "outputs": [
    {
     "data": {
      "text/plain": [
       "serial_number       int64\n",
       "country            object\n",
       "total_cases        object\n",
       "total_deaths       object\n",
       "total_recovered    object\n",
       "active_cases       object\n",
       "total_test         object\n",
       "population         object\n",
       "dtype: object"
      ]
     },
     "execution_count": 9,
     "metadata": {},
     "output_type": "execute_result"
    }
   ],
   "source": [
    "df.dtypes"
   ]
  },
  {
   "cell_type": "markdown",
   "id": "55d13826",
   "metadata": {},
   "source": [
    "# Eliminating ',' in the numbers and changing the columns that contain numbers into float"
   ]
  },
  {
   "cell_type": "code",
   "execution_count": 10,
   "id": "ba51dd21",
   "metadata": {},
   "outputs": [],
   "source": [
    "column_change = ['total_cases', 'total_deaths', 'total_recovered', 'active_cases', 'total_test', 'population']\n",
    "\n",
    "df['total_cases'] = df['total_cases'].str.replace(',', '').astype('float64')\n",
    "df['total_deaths'] = df['total_deaths'].str.replace(',', '').astype('float64')\n",
    "df['total_recovered'] = df['total_recovered'].str.replace(',', '').astype('float64')\n",
    "df['active_cases'] = df['active_cases'].str.replace(',', '').astype('float64')\n",
    "df['total_test'] = df['total_test'].str.replace(',', '').astype('float64')\n",
    "df['population'] = df['population'].str.replace(',', '').astype('float64')"
   ]
  },
  {
   "cell_type": "markdown",
   "id": "f9af0e0d",
   "metadata": {},
   "source": [
    "# Checking if changes has been made"
   ]
  },
  {
   "cell_type": "code",
   "execution_count": 11,
   "id": "ae392595",
   "metadata": {},
   "outputs": [
    {
     "data": {
      "text/plain": [
       "serial_number        int64\n",
       "country             object\n",
       "total_cases        float64\n",
       "total_deaths       float64\n",
       "total_recovered    float64\n",
       "active_cases       float64\n",
       "total_test         float64\n",
       "population         float64\n",
       "dtype: object"
      ]
     },
     "execution_count": 11,
     "metadata": {},
     "output_type": "execute_result"
    }
   ],
   "source": [
    "df.dtypes"
   ]
  },
  {
   "cell_type": "markdown",
   "id": "ea765c87",
   "metadata": {},
   "source": [
    "# Checking for Missing Values"
   ]
  },
  {
   "cell_type": "code",
   "execution_count": 12,
   "id": "ac28a7f4",
   "metadata": {},
   "outputs": [
    {
     "name": "stdout",
     "output_type": "stream",
     "text": [
      "serial_number       0\n",
      "country             0\n",
      "total_cases         0\n",
      "total_deaths        6\n",
      "total_recovered    21\n",
      "active_cases       19\n",
      "total_test         18\n",
      "population          3\n",
      "dtype: int64\n"
     ]
    },
    {
     "data": {
      "image/png": "[encoded data removed]",
      "text/plain": [
       "<Figure size 432x288 with 1 Axes>"
      ]
     },
     "metadata": {
      "needs_background": "light"
     },
     "output_type": "display_data"
    }
   ],
   "source": [
    "print(df.isna().sum())\n",
    "\n",
    "df.isna().sum().plot.barh()\n",
    "\n",
    "plt.show()"
   ]
  },
  {
   "cell_type": "markdown",
   "id": "d7767f55",
   "metadata": {},
   "source": [
    "# Checking total_recovered missing values"
   ]
  },
  {
   "cell_type": "code",
   "execution_count": 13,
   "id": "6153d71e",
   "metadata": {},
   "outputs": [
    {
     "data": {
      "text/html": [
       "<div>\n",
       "<style scoped>\n",
       "    .dataframe tbody tr th:only-of-type {\n",
       "        vertical-align: middle;\n",
       "    }\n",
       "\n",
       "    .dataframe tbody tr th {\n",
       "        vertical-align: top;\n",
       "    }\n",
       "\n",
       "    .dataframe thead th {\n",
       "        text-align: right;\n",
       "    }\n",
       "</style>\n",
       "<table border=\"1\" class=\"dataframe\">\n",
       "  <thead>\n",
       "    <tr style=\"text-align: right;\">\n",
       "      <th></th>\n",
       "      <th>serial_number</th>\n",
       "      <th>country</th>\n",
       "      <th>total_cases</th>\n",
       "      <th>total_deaths</th>\n",
       "      <th>total_recovered</th>\n",
       "      <th>active_cases</th>\n",
       "      <th>total_test</th>\n",
       "      <th>population</th>\n",
       "    </tr>\n",
       "  </thead>\n",
       "  <tbody>\n",
       "    <tr>\n",
       "      <th>10</th>\n",
       "      <td>11</td>\n",
       "      <td>Turkey</td>\n",
       "      <td>17042722.0</td>\n",
       "      <td>101492.0</td>\n",
       "      <td>NaN</td>\n",
       "      <td>NaN</td>\n",
       "      <td>162743369.0</td>\n",
       "      <td>85561976.0</td>\n",
       "    </tr>\n",
       "    <tr>\n",
       "      <th>65</th>\n",
       "      <td>66</td>\n",
       "      <td>Tunisia</td>\n",
       "      <td>1150356.0</td>\n",
       "      <td>29308.0</td>\n",
       "      <td>NaN</td>\n",
       "      <td>NaN</td>\n",
       "      <td>4997373.0</td>\n",
       "      <td>12046656.0</td>\n",
       "    </tr>\n",
       "    <tr>\n",
       "      <th>77</th>\n",
       "      <td>78</td>\n",
       "      <td>Paraguay</td>\n",
       "      <td>806256.0</td>\n",
       "      <td>19820.0</td>\n",
       "      <td>NaN</td>\n",
       "      <td>NaN</td>\n",
       "      <td>2657506.0</td>\n",
       "      <td>7305843.0</td>\n",
       "    </tr>\n",
       "    <tr>\n",
       "      <th>94</th>\n",
       "      <td>95</td>\n",
       "      <td>Honduras</td>\n",
       "      <td>470757.0</td>\n",
       "      <td>11104.0</td>\n",
       "      <td>NaN</td>\n",
       "      <td>NaN</td>\n",
       "      <td>1619676.0</td>\n",
       "      <td>10221247.0</td>\n",
       "    </tr>\n",
       "    <tr>\n",
       "      <th>111</th>\n",
       "      <td>112</td>\n",
       "      <td>Martinique</td>\n",
       "      <td>229687.0</td>\n",
       "      <td>1097.0</td>\n",
       "      <td>NaN</td>\n",
       "      <td>NaN</td>\n",
       "      <td>828928.0</td>\n",
       "      <td>374087.0</td>\n",
       "    </tr>\n",
       "    <tr>\n",
       "      <th>112</th>\n",
       "      <td>113</td>\n",
       "      <td>Laos</td>\n",
       "      <td>217973.0</td>\n",
       "      <td>758.0</td>\n",
       "      <td>NaN</td>\n",
       "      <td>NaN</td>\n",
       "      <td>1233207.0</td>\n",
       "      <td>7481023.0</td>\n",
       "    </tr>\n",
       "    <tr>\n",
       "      <th>113</th>\n",
       "      <td>114</td>\n",
       "      <td>Iceland</td>\n",
       "      <td>208688.0</td>\n",
       "      <td>229.0</td>\n",
       "      <td>NaN</td>\n",
       "      <td>NaN</td>\n",
       "      <td>1996384.0</td>\n",
       "      <td>345393.0</td>\n",
       "    </tr>\n",
       "    <tr>\n",
       "      <th>117</th>\n",
       "      <td>118</td>\n",
       "      <td>Guadeloupe</td>\n",
       "      <td>201394.0</td>\n",
       "      <td>1007.0</td>\n",
       "      <td>NaN</td>\n",
       "      <td>NaN</td>\n",
       "      <td>938039.0</td>\n",
       "      <td>399794.0</td>\n",
       "    </tr>\n",
       "    <tr>\n",
       "      <th>136</th>\n",
       "      <td>137</td>\n",
       "      <td>Suriname</td>\n",
       "      <td>82020.0</td>\n",
       "      <td>1398.0</td>\n",
       "      <td>NaN</td>\n",
       "      <td>NaN</td>\n",
       "      <td>239603.0</td>\n",
       "      <td>596831.0</td>\n",
       "    </tr>\n",
       "    <tr>\n",
       "      <th>138</th>\n",
       "      <td>139</td>\n",
       "      <td>French Polynesia</td>\n",
       "      <td>77957.0</td>\n",
       "      <td>649.0</td>\n",
       "      <td>NaN</td>\n",
       "      <td>NaN</td>\n",
       "      <td>NaN</td>\n",
       "      <td>284164.0</td>\n",
       "    </tr>\n",
       "    <tr>\n",
       "      <th>156</th>\n",
       "      <td>157</td>\n",
       "      <td>Tanzania</td>\n",
       "      <td>42664.0</td>\n",
       "      <td>846.0</td>\n",
       "      <td>NaN</td>\n",
       "      <td>NaN</td>\n",
       "      <td>NaN</td>\n",
       "      <td>63298550.0</td>\n",
       "    </tr>\n",
       "    <tr>\n",
       "      <th>157</th>\n",
       "      <td>158</td>\n",
       "      <td>Mayotte</td>\n",
       "      <td>42002.0</td>\n",
       "      <td>188.0</td>\n",
       "      <td>NaN</td>\n",
       "      <td>NaN</td>\n",
       "      <td>176919.0</td>\n",
       "      <td>286259.0</td>\n",
       "    </tr>\n",
       "    <tr>\n",
       "      <th>161</th>\n",
       "      <td>162</td>\n",
       "      <td>Isle of Man</td>\n",
       "      <td>38008.0</td>\n",
       "      <td>116.0</td>\n",
       "      <td>NaN</td>\n",
       "      <td>NaN</td>\n",
       "      <td>150753.0</td>\n",
       "      <td>85732.0</td>\n",
       "    </tr>\n",
       "    <tr>\n",
       "      <th>164</th>\n",
       "      <td>165</td>\n",
       "      <td>Faeroe Islands</td>\n",
       "      <td>34658.0</td>\n",
       "      <td>28.0</td>\n",
       "      <td>NaN</td>\n",
       "      <td>NaN</td>\n",
       "      <td>778000.0</td>\n",
       "      <td>49233.0</td>\n",
       "    </tr>\n",
       "    <tr>\n",
       "      <th>172</th>\n",
       "      <td>173</td>\n",
       "      <td>Solomon Islands</td>\n",
       "      <td>24575.0</td>\n",
       "      <td>153.0</td>\n",
       "      <td>NaN</td>\n",
       "      <td>NaN</td>\n",
       "      <td>NaN</td>\n",
       "      <td>721159.0</td>\n",
       "    </tr>\n",
       "    <tr>\n",
       "      <th>175</th>\n",
       "      <td>176</td>\n",
       "      <td>Micronesia</td>\n",
       "      <td>22676.0</td>\n",
       "      <td>58.0</td>\n",
       "      <td>NaN</td>\n",
       "      <td>NaN</td>\n",
       "      <td>54967.0</td>\n",
       "      <td>117489.0</td>\n",
       "    </tr>\n",
       "    <tr>\n",
       "      <th>206</th>\n",
       "      <td>207</td>\n",
       "      <td>Sierra Leone</td>\n",
       "      <td>7760.0</td>\n",
       "      <td>126.0</td>\n",
       "      <td>NaN</td>\n",
       "      <td>NaN</td>\n",
       "      <td>259958.0</td>\n",
       "      <td>8306436.0</td>\n",
       "    </tr>\n",
       "    <tr>\n",
       "      <th>208</th>\n",
       "      <td>209</td>\n",
       "      <td>British Virgin Islands</td>\n",
       "      <td>7305.0</td>\n",
       "      <td>64.0</td>\n",
       "      <td>NaN</td>\n",
       "      <td>NaN</td>\n",
       "      <td>107339.0</td>\n",
       "      <td>30596.0</td>\n",
       "    </tr>\n",
       "    <tr>\n",
       "      <th>214</th>\n",
       "      <td>215</td>\n",
       "      <td>St. Barth</td>\n",
       "      <td>5420.0</td>\n",
       "      <td>6.0</td>\n",
       "      <td>NaN</td>\n",
       "      <td>NaN</td>\n",
       "      <td>78646.0</td>\n",
       "      <td>9945.0</td>\n",
       "    </tr>\n",
       "    <tr>\n",
       "      <th>221</th>\n",
       "      <td>222</td>\n",
       "      <td>Tuvalu</td>\n",
       "      <td>2805.0</td>\n",
       "      <td>NaN</td>\n",
       "      <td>NaN</td>\n",
       "      <td>2805.0</td>\n",
       "      <td>NaN</td>\n",
       "      <td>12066.0</td>\n",
       "    </tr>\n",
       "    <tr>\n",
       "      <th>230</th>\n",
       "      <td>231</td>\n",
       "      <td>Tokelau</td>\n",
       "      <td>5.0</td>\n",
       "      <td>NaN</td>\n",
       "      <td>NaN</td>\n",
       "      <td>5.0</td>\n",
       "      <td>NaN</td>\n",
       "      <td>1378.0</td>\n",
       "    </tr>\n",
       "  </tbody>\n",
       "</table>\n",
       "</div>"
      ],
      "text/plain": [
       "     serial_number                 country  total_cases  total_deaths  \\\n",
       "10              11                  Turkey   17042722.0      101492.0   \n",
       "65              66                 Tunisia    1150356.0       29308.0   \n",
       "77              78                Paraguay     806256.0       19820.0   \n",
       "94              95                Honduras     470757.0       11104.0   \n",
       "111            112              Martinique     229687.0        1097.0   \n",
       "112            113                    Laos     217973.0         758.0   \n",
       "113            114                 Iceland     208688.0         229.0   \n",
       "117            118              Guadeloupe     201394.0        1007.0   \n",
       "136            137                Suriname      82020.0        1398.0   \n",
       "138            139        French Polynesia      77957.0         649.0   \n",
       "156            157                Tanzania      42664.0         846.0   \n",
       "157            158                 Mayotte      42002.0         188.0   \n",
       "161            162             Isle of Man      38008.0         116.0   \n",
       "164            165          Faeroe Islands      34658.0          28.0   \n",
       "172            173         Solomon Islands      24575.0         153.0   \n",
       "175            176              Micronesia      22676.0          58.0   \n",
       "206            207            Sierra Leone       7760.0         126.0   \n",
       "208            209  British Virgin Islands       7305.0          64.0   \n",
       "214            215               St. Barth       5420.0           6.0   \n",
       "221            222                  Tuvalu       2805.0           NaN   \n",
       "230            231                 Tokelau          5.0           NaN   \n",
       "\n",
       "     total_recovered  active_cases   total_test  population  \n",
       "10               NaN           NaN  162743369.0  85561976.0  \n",
       "65               NaN           NaN    4997373.0  12046656.0  \n",
       "77               NaN           NaN    2657506.0   7305843.0  \n",
       "94               NaN           NaN    1619676.0  10221247.0  \n",
       "111              NaN           NaN     828928.0    374087.0  \n",
       "112              NaN           NaN    1233207.0   7481023.0  \n",
       "113              NaN           NaN    1996384.0    345393.0  \n",
       "117              NaN           NaN     938039.0    399794.0  \n",
       "136              NaN           NaN     239603.0    596831.0  \n",
       "138              NaN           NaN          NaN    284164.0  \n",
       "156              NaN           NaN          NaN  63298550.0  \n",
       "157              NaN           NaN     176919.0    286259.0  \n",
       "161              NaN           NaN     150753.0     85732.0  \n",
       "164              NaN           NaN     778000.0     49233.0  \n",
       "172              NaN           NaN          NaN    721159.0  \n",
       "175              NaN           NaN      54967.0    117489.0  \n",
       "206              NaN           NaN     259958.0   8306436.0  \n",
       "208              NaN           NaN     107339.0     30596.0  \n",
       "214              NaN           NaN      78646.0      9945.0  \n",
       "221              NaN        2805.0          NaN     12066.0  \n",
       "230              NaN           5.0          NaN      1378.0  "
      ]
     },
     "execution_count": 13,
     "metadata": {},
     "output_type": "execute_result"
    }
   ],
   "source": [
    "df[df['total_recovered'].isna()]"
   ]
  },
  {
   "cell_type": "markdown",
   "id": "198782d8",
   "metadata": {},
   "source": [
    "# Dropping Rows with Null Values in total_recovered columns"
   ]
  },
  {
   "cell_type": "code",
   "execution_count": 14,
   "id": "05f7bc0b",
   "metadata": {},
   "outputs": [],
   "source": [
    "df.dropna(subset=['total_recovered'], inplace=True)"
   ]
  },
  {
   "cell_type": "markdown",
   "id": "ddfa2178",
   "metadata": {},
   "source": [
    "# Checking null values in population column"
   ]
  },
  {
   "cell_type": "code",
   "execution_count": 15,
   "id": "96156a35",
   "metadata": {},
   "outputs": [
    {
     "data": {
      "text/html": [
       "<div>\n",
       "<style scoped>\n",
       "    .dataframe tbody tr th:only-of-type {\n",
       "        vertical-align: middle;\n",
       "    }\n",
       "\n",
       "    .dataframe tbody tr th {\n",
       "        vertical-align: top;\n",
       "    }\n",
       "\n",
       "    .dataframe thead th {\n",
       "        text-align: right;\n",
       "    }\n",
       "</style>\n",
       "<table border=\"1\" class=\"dataframe\">\n",
       "  <thead>\n",
       "    <tr style=\"text-align: right;\">\n",
       "      <th></th>\n",
       "      <th>serial_number</th>\n",
       "      <th>country</th>\n",
       "      <th>total_cases</th>\n",
       "      <th>total_deaths</th>\n",
       "      <th>total_recovered</th>\n",
       "      <th>active_cases</th>\n",
       "      <th>total_test</th>\n",
       "      <th>population</th>\n",
       "    </tr>\n",
       "  </thead>\n",
       "  <tbody>\n",
       "    <tr>\n",
       "      <th>90</th>\n",
       "      <td>91</td>\n",
       "      <td>China</td>\n",
       "      <td>503302.0</td>\n",
       "      <td>5272.0</td>\n",
       "      <td>379053.0</td>\n",
       "      <td>118977.0</td>\n",
       "      <td>160000000.0</td>\n",
       "      <td>NaN</td>\n",
       "    </tr>\n",
       "    <tr>\n",
       "      <th>226</th>\n",
       "      <td>227</td>\n",
       "      <td>Diamond Princess</td>\n",
       "      <td>712.0</td>\n",
       "      <td>13.0</td>\n",
       "      <td>699.0</td>\n",
       "      <td>0.0</td>\n",
       "      <td>NaN</td>\n",
       "      <td>NaN</td>\n",
       "    </tr>\n",
       "    <tr>\n",
       "      <th>229</th>\n",
       "      <td>230</td>\n",
       "      <td>MS Zaandam</td>\n",
       "      <td>9.0</td>\n",
       "      <td>2.0</td>\n",
       "      <td>7.0</td>\n",
       "      <td>0.0</td>\n",
       "      <td>NaN</td>\n",
       "      <td>NaN</td>\n",
       "    </tr>\n",
       "  </tbody>\n",
       "</table>\n",
       "</div>"
      ],
      "text/plain": [
       "     serial_number           country  total_cases  total_deaths  \\\n",
       "90              91             China     503302.0        5272.0   \n",
       "226            227  Diamond Princess        712.0          13.0   \n",
       "229            230        MS Zaandam          9.0           2.0   \n",
       "\n",
       "     total_recovered  active_cases   total_test  population  \n",
       "90          379053.0      118977.0  160000000.0         NaN  \n",
       "226            699.0           0.0          NaN         NaN  \n",
       "229              7.0           0.0          NaN         NaN  "
      ]
     },
     "execution_count": 15,
     "metadata": {},
     "output_type": "execute_result"
    }
   ],
   "source": [
    "df[df['population'].isna()]"
   ]
  },
  {
   "cell_type": "markdown",
   "id": "2b39e5b9",
   "metadata": {},
   "source": [
    "# Filling China Population"
   ]
  },
  {
   "cell_type": "code",
   "execution_count": 16,
   "id": "93dd0731",
   "metadata": {},
   "outputs": [
    {
     "data": {
      "text/plain": [
       "serial_number                91\n",
       "country                   China\n",
       "total_cases            503302.0\n",
       "total_deaths             5272.0\n",
       "total_recovered        379053.0\n",
       "active_cases           118977.0\n",
       "total_test          160000000.0\n",
       "population         1439323776.0\n",
       "Name: 90, dtype: object"
      ]
     },
     "execution_count": 16,
     "metadata": {},
     "output_type": "execute_result"
    }
   ],
   "source": [
    "df.loc[90, 'population'] = 1439323776\n",
    "\n",
    "df.loc[90]"
   ]
  },
  {
   "cell_type": "markdown",
   "id": "ee5bf372",
   "metadata": {},
   "source": [
    "# Droping the rows of the cruise ship "
   ]
  },
  {
   "cell_type": "code",
   "execution_count": 17,
   "id": "c4175f07",
   "metadata": {},
   "outputs": [],
   "source": [
    "df.drop([226], inplace=True)\n",
    "df.drop([229], inplace=True)"
   ]
  },
  {
   "cell_type": "markdown",
   "id": "502ceda8",
   "metadata": {},
   "source": [
    "# Filling the Missing Values of total_deaths to 0"
   ]
  },
  {
   "cell_type": "code",
   "execution_count": 18,
   "id": "89d7b9ca",
   "metadata": {},
   "outputs": [],
   "source": [
    "df['total_deaths'].fillna(0, inplace=True)"
   ]
  },
  {
   "cell_type": "code",
   "execution_count": 19,
   "id": "a211a925",
   "metadata": {},
   "outputs": [
    {
     "data": {
      "text/html": [
       "<div>\n",
       "<style scoped>\n",
       "    .dataframe tbody tr th:only-of-type {\n",
       "        vertical-align: middle;\n",
       "    }\n",
       "\n",
       "    .dataframe tbody tr th {\n",
       "        vertical-align: top;\n",
       "    }\n",
       "\n",
       "    .dataframe thead th {\n",
       "        text-align: right;\n",
       "    }\n",
       "</style>\n",
       "<table border=\"1\" class=\"dataframe\">\n",
       "  <thead>\n",
       "    <tr style=\"text-align: right;\">\n",
       "      <th></th>\n",
       "      <th>serial_number</th>\n",
       "      <th>country</th>\n",
       "      <th>total_cases</th>\n",
       "      <th>total_deaths</th>\n",
       "      <th>total_recovered</th>\n",
       "      <th>active_cases</th>\n",
       "      <th>total_test</th>\n",
       "      <th>population</th>\n",
       "    </tr>\n",
       "  </thead>\n",
       "  <tbody>\n",
       "    <tr>\n",
       "      <th>29</th>\n",
       "      <td>30</td>\n",
       "      <td>DPRK</td>\n",
       "      <td>4772813.0</td>\n",
       "      <td>74.0</td>\n",
       "      <td>4772739.0</td>\n",
       "      <td>0.0</td>\n",
       "      <td>NaN</td>\n",
       "      <td>25990679.0</td>\n",
       "    </tr>\n",
       "    <tr>\n",
       "      <th>150</th>\n",
       "      <td>151</td>\n",
       "      <td>Seychelles</td>\n",
       "      <td>50665.0</td>\n",
       "      <td>172.0</td>\n",
       "      <td>50440.0</td>\n",
       "      <td>53.0</td>\n",
       "      <td>NaN</td>\n",
       "      <td>99426.0</td>\n",
       "    </tr>\n",
       "    <tr>\n",
       "      <th>181</th>\n",
       "      <td>182</td>\n",
       "      <td>Nicaragua</td>\n",
       "      <td>18491.0</td>\n",
       "      <td>225.0</td>\n",
       "      <td>4225.0</td>\n",
       "      <td>14041.0</td>\n",
       "      <td>NaN</td>\n",
       "      <td>6779100.0</td>\n",
       "    </tr>\n",
       "    <tr>\n",
       "      <th>183</th>\n",
       "      <td>184</td>\n",
       "      <td>Tajikistan</td>\n",
       "      <td>17786.0</td>\n",
       "      <td>125.0</td>\n",
       "      <td>17264.0</td>\n",
       "      <td>397.0</td>\n",
       "      <td>NaN</td>\n",
       "      <td>9957464.0</td>\n",
       "    </tr>\n",
       "    <tr>\n",
       "      <th>190</th>\n",
       "      <td>191</td>\n",
       "      <td>Marshall Islands</td>\n",
       "      <td>15584.0</td>\n",
       "      <td>17.0</td>\n",
       "      <td>15528.0</td>\n",
       "      <td>39.0</td>\n",
       "      <td>NaN</td>\n",
       "      <td>60057.0</td>\n",
       "    </tr>\n",
       "    <tr>\n",
       "      <th>203</th>\n",
       "      <td>204</td>\n",
       "      <td>Comoros</td>\n",
       "      <td>8992.0</td>\n",
       "      <td>161.0</td>\n",
       "      <td>8827.0</td>\n",
       "      <td>4.0</td>\n",
       "      <td>NaN</td>\n",
       "      <td>907419.0</td>\n",
       "    </tr>\n",
       "    <tr>\n",
       "      <th>215</th>\n",
       "      <td>216</td>\n",
       "      <td>Kiribati</td>\n",
       "      <td>5008.0</td>\n",
       "      <td>18.0</td>\n",
       "      <td>2703.0</td>\n",
       "      <td>2287.0</td>\n",
       "      <td>NaN</td>\n",
       "      <td>123419.0</td>\n",
       "    </tr>\n",
       "    <tr>\n",
       "      <th>222</th>\n",
       "      <td>223</td>\n",
       "      <td>Saint Helena</td>\n",
       "      <td>2166.0</td>\n",
       "      <td>0.0</td>\n",
       "      <td>2.0</td>\n",
       "      <td>2164.0</td>\n",
       "      <td>NaN</td>\n",
       "      <td>6115.0</td>\n",
       "    </tr>\n",
       "    <tr>\n",
       "      <th>225</th>\n",
       "      <td>226</td>\n",
       "      <td>Niue</td>\n",
       "      <td>747.0</td>\n",
       "      <td>0.0</td>\n",
       "      <td>746.0</td>\n",
       "      <td>1.0</td>\n",
       "      <td>NaN</td>\n",
       "      <td>1622.0</td>\n",
       "    </tr>\n",
       "    <tr>\n",
       "      <th>227</th>\n",
       "      <td>228</td>\n",
       "      <td>Vatican City</td>\n",
       "      <td>29.0</td>\n",
       "      <td>0.0</td>\n",
       "      <td>29.0</td>\n",
       "      <td>0.0</td>\n",
       "      <td>NaN</td>\n",
       "      <td>799.0</td>\n",
       "    </tr>\n",
       "    <tr>\n",
       "      <th>228</th>\n",
       "      <td>229</td>\n",
       "      <td>Western Sahara</td>\n",
       "      <td>10.0</td>\n",
       "      <td>1.0</td>\n",
       "      <td>9.0</td>\n",
       "      <td>0.0</td>\n",
       "      <td>NaN</td>\n",
       "      <td>626161.0</td>\n",
       "    </tr>\n",
       "  </tbody>\n",
       "</table>\n",
       "</div>"
      ],
      "text/plain": [
       "     serial_number           country  total_cases  total_deaths  \\\n",
       "29              30              DPRK    4772813.0          74.0   \n",
       "150            151        Seychelles      50665.0         172.0   \n",
       "181            182         Nicaragua      18491.0         225.0   \n",
       "183            184        Tajikistan      17786.0         125.0   \n",
       "190            191  Marshall Islands      15584.0          17.0   \n",
       "203            204           Comoros       8992.0         161.0   \n",
       "215            216          Kiribati       5008.0          18.0   \n",
       "222            223      Saint Helena       2166.0           0.0   \n",
       "225            226              Niue        747.0           0.0   \n",
       "227            228      Vatican City         29.0           0.0   \n",
       "228            229    Western Sahara         10.0           1.0   \n",
       "\n",
       "     total_recovered  active_cases  total_test  population  \n",
       "29         4772739.0           0.0         NaN  25990679.0  \n",
       "150          50440.0          53.0         NaN     99426.0  \n",
       "181           4225.0       14041.0         NaN   6779100.0  \n",
       "183          17264.0         397.0         NaN   9957464.0  \n",
       "190          15528.0          39.0         NaN     60057.0  \n",
       "203           8827.0           4.0         NaN    907419.0  \n",
       "215           2703.0        2287.0         NaN    123419.0  \n",
       "222              2.0        2164.0         NaN      6115.0  \n",
       "225            746.0           1.0         NaN      1622.0  \n",
       "227             29.0           0.0         NaN       799.0  \n",
       "228              9.0           0.0         NaN    626161.0  "
      ]
     },
     "execution_count": 19,
     "metadata": {},
     "output_type": "execute_result"
    }
   ],
   "source": [
    "df[df['total_test'].isna()]"
   ]
  },
  {
   "cell_type": "code",
   "execution_count": 20,
   "id": "948b8f75",
   "metadata": {},
   "outputs": [],
   "source": [
    "df.drop(columns='serial_number', inplace=True)"
   ]
  },
  {
   "cell_type": "code",
   "execution_count": 21,
   "id": "17233d9c",
   "metadata": {},
   "outputs": [],
   "source": [
    "df.reset_index(inplace=True)"
   ]
  },
  {
   "cell_type": "markdown",
   "id": "836c88b4",
   "metadata": {},
   "source": [
    "# Data Exploration"
   ]
  },
  {
   "cell_type": "markdown",
   "id": "9250dc7d",
   "metadata": {},
   "source": [
    "# Top Countries with Total Cases"
   ]
  },
  {
   "cell_type": "code",
   "execution_count": 22,
   "id": "160fd488",
   "metadata": {},
   "outputs": [
    {
     "name": "stdout",
     "output_type": "stream",
     "text": [
      "                    country  total_cases\n",
      "0  United States of America  104196861.0\n",
      "1                     India   44682784.0\n",
      "2                    France   39524311.0\n",
      "3                   Germany   37779833.0\n",
      "4                    Brazil   36824580.0\n",
      "5                     Japan   32588442.0\n",
      "6                  S. Korea   30197066.0\n",
      "7                     Italy   25453789.0\n",
      "8                        UK   24274361.0\n",
      "9                    Russia   21958696.0\n"
     ]
    },
    {
     "data": {
      "image/png": "[encoded data removed]",
      "text/plain": [
       "<Figure size 432x288 with 1 Axes>"
      ]
     },
     "metadata": {},
     "output_type": "display_data"
    }
   ],
   "source": [
    "# Countries with total cases\n",
    "\n",
    "country_case = df[['country', 'total_cases']]\n",
    "\n",
    "country_case_plot = country_case.sort_values('total_cases', ascending=False).head(10)\n",
    "\n",
    "sns.set_style(\"darkgrid\")\n",
    "\n",
    "ccplot = sns.barplot(x='total_cases', y='country', data=country_case_plot)\n",
    "ccplot.set_ylabel('Country', fontweight='bold')\n",
    "ccplot.set_xlabel('Cases (in hundred million)', fontweight='bold')\n",
    "ccplot.set_title('Top Countries with Total Cases', fontweight='heavy')\n",
    "\n",
    "\n",
    "print(country_case_plot)"
   ]
  },
  {
   "cell_type": "markdown",
   "id": "58b0cd3f",
   "metadata": {},
   "source": [
    "# Top 10 Countries with the most Covid Cases and The amount of people who recovered"
   ]
  },
  {
   "cell_type": "code",
   "execution_count": 23,
   "id": "aeb739a0",
   "metadata": {},
   "outputs": [
    {
     "data": {
      "image/png": "[encoded data removed]",
      "text/plain": [
       "<Figure size 432x288 with 1 Axes>"
      ]
     },
     "metadata": {},
     "output_type": "display_data"
    }
   ],
   "source": [
    "case_recov = df[['country', 'total_cases', 'total_recovered']]\n",
    "\n",
    "case_recov_df = case_recov.head(10)\n",
    "\n",
    "case_recov_df.sort_values('total_cases').plot(x='country', kind='barh', stacked=False)\n",
    "\n",
    "plt.title(\"Top 10 Countries with the Most Covid Case & The Amount Of Cases Recovered\", weight='heavy', fontsize='x-large')\n",
    "plt.xlabel(\"Cases (in hundred millions)\", weight='bold')\n",
    "plt.ylabel(\"Country\", weight='bold')\n",
    "\n",
    "plt.legend(['Total Cases', 'Cases Recovered'])\n",
    "\n",
    "plt.show()"
   ]
  },
  {
   "cell_type": "markdown",
   "id": "b7428368",
   "metadata": {},
   "source": [
    "# Recovery Percentage from the Country's Total Case"
   ]
  },
  {
   "cell_type": "code",
   "execution_count": 24,
   "id": "c6f7d2fc",
   "metadata": {},
   "outputs": [
    {
     "name": "stderr",
     "output_type": "stream",
     "text": [
      "C:\\Users\\Rahul Kumar Yadav\\AppData\\Local\\Temp\\ipykernel_14780\\1969523895.py:1: SettingWithCopyWarning: \n",
      "A value is trying to be set on a copy of a slice from a DataFrame.\n",
      "Try using .loc[row_indexer,col_indexer] = value instead\n",
      "\n",
      "See the caveats in the documentation: https://pandas.pydata.org/pandas-docs/stable/user_guide/indexing.html#returning-a-view-versus-a-copy\n",
      "  case_recov_df['recov_perc'] = (df['total_recovered'] / df['total_cases']) * 100\n"
     ]
    },
    {
     "data": {
      "image/png": "[encoded data removed]",
      "text/plain": [
       "<Figure size 432x288 with 1 Axes>"
      ]
     },
     "metadata": {},
     "output_type": "display_data"
    }
   ],
   "source": [
    "case_recov_df['recov_perc'] = (df['total_recovered'] / df['total_cases']) * 100\n",
    "\n",
    "case_recov_df['recov_perc']\n",
    "\n",
    "recov_perc_plot = sns.barplot(data=case_recov_df, x='recov_perc', y='country')\n",
    "\n",
    "plt.title(\"Recovery Percentage of the Top 10 Countries with The Most Covid Cases\", weight='heavy', fontsize='x-large')\n",
    "plt.xlabel(\"Recovery from Covid Case (%)\", weight='bold')\n",
    "plt.ylabel(\"Country\", weight='bold')\n",
    "\n",
    "plt.show()"
   ]
  },
  {
   "cell_type": "markdown",
   "id": "1ac64809",
   "metadata": {},
   "source": [
    "# Countries with the most Deaths from Covid"
   ]
  },
  {
   "cell_type": "code",
   "execution_count": 25,
   "id": "fa92f1cb",
   "metadata": {},
   "outputs": [
    {
     "data": {
      "image/png": "[encoded data removed]",
      "text/plain": [
       "<Figure size 432x288 with 1 Axes>"
      ]
     },
     "metadata": {},
     "output_type": "display_data"
    }
   ],
   "source": [
    "deaths_df = df[['country', 'total_deaths']]\n",
    "\n",
    "deaths_plot = deaths_df.sort_values('total_deaths',ascending=False).head(10)\n",
    "\n",
    "\n",
    "dplot = sns.barplot(data=deaths_plot, x='total_deaths', y='country')\n",
    "\n",
    "dplot.set_xlabel('Total Deaths (in millions)', fontweight='bold')\n",
    "dplot.set_ylabel('Country', fontweight='bold')\n",
    "dplot.set_title('Top Countries with the Most Death due to Covid', fontweight='heavy')\n",
    "\n",
    "plt.show()"
   ]
  },
  {
   "cell_type": "markdown",
   "id": "44fb7368",
   "metadata": {},
   "source": [
    "#  The Percentage of Covid Cases compared to the Country's Population"
   ]
  },
  {
   "cell_type": "markdown",
   "id": "7fdf0be5",
   "metadata": {},
   "source": [
    "# Total Case per population "
   ]
  },
  {
   "cell_type": "code",
   "execution_count": 26,
   "id": "476571be",
   "metadata": {},
   "outputs": [],
   "source": [
    "df['cases_per_pop'] = (df['total_cases'] / df['population']) * 100"
   ]
  },
  {
   "cell_type": "markdown",
   "id": "443b87c2",
   "metadata": {},
   "source": [
    "# Top 10 Countries With the Most Covid Cases per Country's Population"
   ]
  },
  {
   "cell_type": "code",
   "execution_count": 27,
   "id": "a04c65db",
   "metadata": {},
   "outputs": [
    {
     "data": {
      "image/png": "[encoded data removed]",
      "text/plain": [
       "<Figure size 432x288 with 1 Axes>"
      ]
     },
     "metadata": {},
     "output_type": "display_data"
    }
   ],
   "source": [
    "cpp_df = df.sort_values('cases_per_pop', ascending=False).head(10)\n",
    "\n",
    "cpp_plot = sns.barplot(data=cpp_df, x='cases_per_pop', y='country')\n",
    "\n",
    "cpp_plot.set_xlabel('Percentage of Covid Population (%)', fontweight='bold')\n",
    "cpp_plot.set_ylabel('Country', fontweight='bold')\n",
    "cpp_plot.set_title(\"Top 10 Countries With the Most Covid Cases per Country's Population\", fontweight='heavy')\n",
    "\n",
    "plt.show()\n"
   ]
  },
  {
   "cell_type": "markdown",
   "id": "a47c45a8",
   "metadata": {},
   "source": [
    "# Top 10 Countries With the Least Covid Cases per Country's Population"
   ]
  },
  {
   "cell_type": "code",
   "execution_count": 28,
   "id": "789ceadf",
   "metadata": {},
   "outputs": [
    {
     "data": {
      "image/png": "[encoded data removed]",
      "text/plain": [
       "<Figure size 432x288 with 1 Axes>"
      ]
     },
     "metadata": {},
     "output_type": "display_data"
    }
   ],
   "source": [
    "cpp_low_df = df.sort_values('cases_per_pop').head(10)\n",
    "\n",
    "cpp_low_plot = sns.barplot(data=cpp_low_df, x='cases_per_pop', y='country')\n",
    "\n",
    "cpp_low_plot.set_xlabel('Percentage of Covid Population (%)', fontweight='bold')\n",
    "cpp_low_plot.set_ylabel('Country', fontweight='bold')\n",
    "cpp_low_plot.set_title(\"Top 10 Countries With The Least Covid Cases per Country's Population\", fontweight='heavy')\n",
    "\n",
    "plt.show()"
   ]
  },
  {
   "cell_type": "markdown",
   "id": "f841cc20",
   "metadata": {},
   "source": [
    "# Top 10 Countries with The Most Death per Total Case"
   ]
  },
  {
   "cell_type": "markdown",
   "id": "078243ff",
   "metadata": {},
   "source": [
    "# Creating a new column"
   ]
  },
  {
   "cell_type": "code",
   "execution_count": 29,
   "id": "eca72801",
   "metadata": {},
   "outputs": [],
   "source": [
    "df['death_per_case'] = (df['total_deaths'] / df['total_cases']) * 100"
   ]
  },
  {
   "cell_type": "markdown",
   "id": "0591d21d",
   "metadata": {},
   "source": [
    "# Plotting Top 10 Countries with the most Death per Total Case"
   ]
  },
  {
   "cell_type": "code",
   "execution_count": 30,
   "id": "4e3eae38",
   "metadata": {},
   "outputs": [
    {
     "data": {
      "image/png": "[encoded data removed]",
      "text/plain": [
       "<Figure size 432x288 with 1 Axes>"
      ]
     },
     "metadata": {},
     "output_type": "display_data"
    }
   ],
   "source": [
    "dpc_df = df.sort_values('death_per_case', ascending=False).head(10)\n",
    "\n",
    "dpc_plot = sns.barplot(data=dpc_df, x='death_per_case', y='country')\n",
    "\n",
    "dpc_plot.set_xlabel('Covid Death Percentage (%)', fontweight='bold')\n",
    "dpc_plot.set_ylabel('Country', fontweight='bold')\n",
    "dpc_plot.set_title(\"Top 10 Countries With the Most Covid Death per Country's Total Cases\", fontweight='heavy')\n",
    "\n",
    "plt.show()"
   ]
  },
  {
   "cell_type": "markdown",
   "id": "ed0b43eb",
   "metadata": {},
   "source": [
    "# Correlation Between Population and Total Cases"
   ]
  },
  {
   "cell_type": "code",
   "execution_count": 31,
   "id": "aca25c47",
   "metadata": {},
   "outputs": [
    {
     "data": {
      "image/png": "[encoded data removed]",
      "text/plain": [
       "<Figure size 432x288 with 1 Axes>"
      ]
     },
     "metadata": {},
     "output_type": "display_data"
    }
   ],
   "source": [
    "sc_case = sns.scatterplot(data=df, x='population', y='total_cases')\n",
    "\n",
    "sc_case.set_xscale(\"log\")\n",
    "sc_case.set_yscale(\"log\")\n",
    "\n",
    "sc_case.set_xlabel('Total Cases', fontweight='bold')\n",
    "sc_case.set_ylabel('Population', fontweight='bold')\n",
    "sc_case.set_title(\"Correlation Between Population and Total Cases\", fontweight='heavy')\n",
    "\n",
    "plt.show()"
   ]
  },
  {
   "cell_type": "markdown",
   "id": "5e7e4597",
   "metadata": {},
   "source": [
    "# Correlation Between Population and Total Deaths"
   ]
  },
  {
   "cell_type": "code",
   "execution_count": 32,
   "id": "6f4bfb28",
   "metadata": {},
   "outputs": [
    {
     "data": {
      "image/png": "[encoded data removed]",
      "text/plain": [
       "<Figure size 432x288 with 1 Axes>"
      ]
     },
     "metadata": {},
     "output_type": "display_data"
    }
   ],
   "source": [
    "sc_case = sns.scatterplot(data=df, x='population', y='total_deaths')\n",
    "\n",
    "sc_case.set_xscale(\"log\")\n",
    "sc_case.set_yscale(\"log\")\n",
    "\n",
    "sc_case.set_xlabel('Total Deaths', fontweight='bold')\n",
    "sc_case.set_ylabel('Population', fontweight='bold')\n",
    "sc_case.set_title(\"Correlation Between Population and Total Deaths\", fontweight='heavy')\n",
    "\n",
    "plt.show()"
   ]
  },
  {
   "cell_type": "markdown",
   "id": "1191bbf1",
   "metadata": {},
   "source": [
    "# Correlation Between Total Tests and Total Cases"
   ]
  },
  {
   "cell_type": "code",
   "execution_count": 33,
   "id": "122a4fad",
   "metadata": {},
   "outputs": [
    {
     "data": {
      "image/png": "[encoded data removed]",
      "text/plain": [
       "<Figure size 432x288 with 1 Axes>"
      ]
     },
     "metadata": {},
     "output_type": "display_data"
    }
   ],
   "source": [
    "sc_case = sns.scatterplot(data=df, x='total_test', y='total_cases')\n",
    "\n",
    "sc_case.set_xscale(\"log\")\n",
    "sc_case.set_yscale(\"log\")\n",
    "\n",
    "\n",
    "sc_case.set_xlabel('Total Cases', fontweight='bold')\n",
    "sc_case.set_ylabel('Total Test Conducted', fontweight='bold')\n",
    "sc_case.set_title(\"Correlation Between Total Test and Total Cases\", fontweight='heavy')\n",
    "\n",
    "plt.show()"
   ]
  },
  {
   "cell_type": "markdown",
   "id": "03bc50f1",
   "metadata": {},
   "source": [
    "# Multiple Linear Regression"
   ]
  },
  {
   "cell_type": "markdown",
   "id": "46f59c5d",
   "metadata": {},
   "source": [
    "# Creating X and y values"
   ]
  },
  {
   "cell_type": "code",
   "execution_count": 34,
   "id": "0e294554",
   "metadata": {},
   "outputs": [],
   "source": [
    "X = df[['population', 'total_cases']]\n",
    "y = df['total_recovered']"
   ]
  },
  {
   "cell_type": "markdown",
   "id": "df5ae9c0",
   "metadata": {},
   "source": [
    "# Splitting the dataset into the Training set and Test set"
   ]
  },
  {
   "cell_type": "code",
   "execution_count": 35,
   "id": "48d6018a",
   "metadata": {},
   "outputs": [],
   "source": [
    "from sklearn.model_selection import train_test_split\n",
    "\n",
    "X_train, X_test, y_train, y_test = train_test_split(X,y, test_size=0.2, random_state=21)"
   ]
  },
  {
   "cell_type": "markdown",
   "id": "cf0490f2",
   "metadata": {},
   "source": [
    "# Fitting Multiple Linear Reggression to the Training Set"
   ]
  },
  {
   "cell_type": "code",
   "execution_count": 36,
   "id": "5db8314d",
   "metadata": {},
   "outputs": [
    {
     "data": {
      "text/plain": [
       "LinearRegression()"
      ]
     },
     "execution_count": 36,
     "metadata": {},
     "output_type": "execute_result"
    }
   ],
   "source": [
    "from sklearn.linear_model import LinearRegression\n",
    "\n",
    "regressor = LinearRegression()\n",
    "regressor.fit(X_train, y_train)"
   ]
  },
  {
   "cell_type": "markdown",
   "id": "6e0438ee",
   "metadata": {},
   "source": [
    "# Predictiing the Test Set Result"
   ]
  },
  {
   "cell_type": "code",
   "execution_count": 37,
   "id": "bdc515a4",
   "metadata": {},
   "outputs": [
    {
     "data": {
      "text/plain": [
       "array([ 1.57723677e+04,  7.08529097e+06,  1.33639994e+06,  2.89105646e+07,\n",
       "        2.10582624e+07,  1.64135178e+01,  2.17643570e+05,  1.95104682e+04,\n",
       "        3.32170774e+05,  5.29792550e+03,  5.35998280e+04,  1.49339796e+04,\n",
       "        1.46101402e+03,  6.08731758e+06, -1.32199406e+04,  9.52883370e+05,\n",
       "        2.07448046e+06, -2.84566315e+03,  1.40027090e+06,  3.78449569e+07,\n",
       "        2.56571329e+06,  5.15857433e+05,  7.74324379e+04,  9.60905000e+06,\n",
       "        5.58061660e+05,  5.52033074e+06,  3.16196073e+04,  2.35918652e+06,\n",
       "        1.61460035e+05, -1.58110103e+04,  2.92989422e+04,  3.04425326e+05,\n",
       "       -1.27837737e+04, -6.87251633e+03,  6.10518605e+06,  4.13451314e+03,\n",
       "        2.43161193e+04,  5.45192859e+06,  3.12148977e+04,  6.54683464e+05,\n",
       "        1.15847352e+05,  3.20123542e+04])"
      ]
     },
     "execution_count": 37,
     "metadata": {},
     "output_type": "execute_result"
    }
   ],
   "source": [
    "y_pred = regressor.predict(X_test)\n",
    "y_pred"
   ]
  },
  {
   "cell_type": "code",
   "execution_count": null,
   "id": "d7583fa9",
   "metadata": {},
   "outputs": [],
   "source": []
  },
  {
   "cell_type": "code",
   "execution_count": null,
   "id": "51ebca35",
   "metadata": {},
   "outputs": [],
   "source": []
  },
  {
   "cell_type": "code",
   "execution_count": null,
   "id": "d5d1d289",
   "metadata": {},
   "outputs": [],
   "source": []
  }
 ],
 "metadata": {
  "kernelspec": {
   "display_name": "Python 3 (ipykernel)",
   "language": "python",
   "name": "python3"
  },
  "language_info": {
   "codemirror_mode": {
    "name": "ipython",
    "version": 3
   },
   "file_extension": ".py",
   "mimetype": "text/x-python",
   "name": "python",
   "nbconvert_exporter": "python",
   "pygments_lexer": "ipython3",
   "version": "3.9.12"
  }
 },
 "nbformat": 4,
 "nbformat_minor": 5
}
